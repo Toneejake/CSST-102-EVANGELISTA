{
  "nbformat": 4,
  "nbformat_minor": 0,
  "metadata": {
    "colab": {
      "provenance": []
    },
    "kernelspec": {
      "name": "python3",
      "display_name": "Python 3"
    },
    "language_info": {
      "name": "python"
    }
  },
  "cells": [
    {
      "cell_type": "markdown",
      "source": [
        "# **Laboratory Exercise 1: Linear Regression Implementation**\n"
      ],
      "metadata": {
        "id": "iMMe36HZC1zC"
      }
    },
    {
      "cell_type": "code",
      "execution_count": 31,
      "metadata": {
        "id": "Hjr6HNfWCz9i"
      },
      "outputs": [],
      "source": [
        "import pandas as pd\n",
        "import numpy as np\n",
        "import matplotlib.pyplot as plt\n",
        "from sklearn.model_selection import train_test_split\n",
        "from sklearn.preprocessing import MinMaxScaler"
      ]
    },
    {
      "cell_type": "markdown",
      "source": [
        "# 1. Data Preprocessing:"
      ],
      "metadata": {
        "id": "aOdFtGYhC5m0"
      }
    },
    {
      "cell_type": "code",
      "source": [
        "house = pd.read_csv('datasets_house_prices.csv') #loading data"
      ],
      "metadata": {
        "id": "NMvZ0A5lC48_"
      },
      "execution_count": 32,
      "outputs": []
    },
    {
      "cell_type": "code",
      "source": [
        "missing = house.isnull().sum()\n",
        "house = house.dropna()#handling missing values"
      ],
      "metadata": {
        "id": "cUHbGbryDnsc"
      },
      "execution_count": 33,
      "outputs": []
    },
    {
      "cell_type": "code",
      "source": [
        "scaler = MinMaxScaler()\n",
        "house[['Size (sqft)', 'Bedrooms', 'Age', 'Proximity to Downtown (miles)']] = scaler.fit_transform(\n",
        "    house[['Size (sqft)', 'Bedrooms', 'Age', 'Proximity to Downtown (miles)']])#normalization"
      ],
      "metadata": {
        "id": "XZuwSgLND5AJ"
      },
      "execution_count": 34,
      "outputs": []
    },
    {
      "cell_type": "markdown",
      "source": [
        "# 2. Model Implementation:"
      ],
      "metadata": {
        "id": "tUyDiYxQEHuX"
      }
    },
    {
      "cell_type": "code",
      "source": [
        "class LinearRegression:\n",
        "    def __init__(self):\n",
        "        self.slope = None\n",
        "        self.intercept = None\n",
        "\n",
        "    def fit(self, X, y):\n",
        "        X_mean = np.mean(X)\n",
        "        y_mean = np.mean(y)\n",
        "        self.slope = np.sum((X - X_mean) * (y - y_mean)) / np.sum((X - X_mean) ** 2)\n",
        "        self.intercept = y_mean - self.slope * X_mean\n",
        "\n",
        "    def predict(self, X):\n",
        "        return self.slope * X + self.intercept\n",
        "#linear regression implementation"
      ],
      "metadata": {
        "id": "DKgX6OwcELSv"
      },
      "execution_count": 35,
      "outputs": []
    },
    {
      "cell_type": "markdown",
      "source": [
        "# 3. Model Training:\n"
      ],
      "metadata": {
        "id": "R0wWrClfJIU3"
      }
    },
    {
      "cell_type": "code",
      "source": [
        "X = house[['Size (sqft)', 'Bedrooms', 'Age', 'Proximity to Downtown (miles)']]\n",
        "y = house['Price']\n",
        "X_train, X_test, y_train, y_test = train_test_split(X, y, test_size=0.2, random_state=42)#splitting data"
      ],
      "metadata": {
        "id": "GN2YWr8oJJzp"
      },
      "execution_count": 36,
      "outputs": []
    },
    {
      "cell_type": "code",
      "source": [
        "model = LinearRegression()\n",
        "model.fit(X_train['Size (sqft)'].values, y_train.values) #model training"
      ],
      "metadata": {
        "id": "quF5oT_pJV3m"
      },
      "execution_count": 37,
      "outputs": []
    },
    {
      "cell_type": "code",
      "source": [
        "train_predictions = model.predict(X_train['Size (sqft)'].values)\n",
        "train_mse = np.mean((train_predictions - y_train.values) ** 2)\n",
        "print(f'Training MSE: {train_mse}')#calculate the MSE"
      ],
      "metadata": {
        "colab": {
          "base_uri": "https://localhost:8080/"
        },
        "id": "q-3BeMKiLY6n",
        "outputId": "cef2ae26-7706-4237-ea6d-df3e4db4f2ab"
      },
      "execution_count": 38,
      "outputs": [
        {
          "output_type": "stream",
          "name": "stdout",
          "text": [
            "Training MSE: 253576579.81087357\n"
          ]
        }
      ]
    },
    {
      "cell_type": "markdown",
      "source": [
        "# 4. Model Evaluation:"
      ],
      "metadata": {
        "id": "I9eR4U47Jfvu"
      }
    },
    {
      "cell_type": "code",
      "source": [
        "test_predictions = model.predict(X_test['Size (sqft)'].values)\n",
        "test_mse = np.mean((test_predictions - y_test.values) ** 2)\n",
        "print(f'Testing MSE: {test_mse}')#compute MSE for test data"
      ],
      "metadata": {
        "colab": {
          "base_uri": "https://localhost:8080/"
        },
        "id": "ZNDJ6xCvJaqX",
        "outputId": "cece4e40-7797-4334-d74b-b14fa18bb6a9"
      },
      "execution_count": 39,
      "outputs": [
        {
          "output_type": "stream",
          "name": "stdout",
          "text": [
            "Testing MSE: 253668187.220402\n"
          ]
        }
      ]
    },
    {
      "cell_type": "code",
      "source": [
        "plt.scatter(X_test['Size (sqft)'], y_test, color='blue', label='Actual Prices')\n",
        "plt.plot(X_test['Size (sqft)'], test_predictions, color='red', label='Predicted Prices')\n",
        "plt.xlabel('Size (sqft)')\n",
        "plt.ylabel('Price')\n",
        "plt.legend()\n",
        "plt.show()"
      ],
      "metadata": {
        "colab": {
          "base_uri": "https://localhost:8080/",
          "height": 465
        },
        "id": "aYCHycgJJpe4",
        "outputId": "97eefbfd-fc2a-4bb7-ba3d-ec49e6b1c544"
      },
      "execution_count": 40,
      "outputs": [
        {
          "output_type": "display_data",
          "data": {
            "text/plain": [
              "<Figure size 640x480 with 1 Axes>"
            ],
            "image/png": "[encoded data removed]"
          },
          "metadata": {}
        }
      ]
    },
    {
      "cell_type": "markdown",
      "source": [
        "# 5. Report:"
      ],
      "metadata": {
        "id": "Hj0Va2-AKuJ-"
      }
    },
    {
      "cell_type": "markdown",
      "source": [
        "**Data Preprocessing**\n",
        "\n",
        "From data preprocessing, the model starts to load the given dataset which is \"datasets_house_prices.csv\" that was also read by the help of pandas library. Then the missing values on the data set was fulfilled by handling it with the right process then normalization was implemented to make sure that all data are on the same scale. With data preprocessig, it ensures that the dataset was ready to be use on model training and other implementation.\n",
        "\n",
        "\n",
        "---\n",
        "\n",
        "\n",
        "\n",
        "**Model Implementation**\n",
        "\n",
        "Without the help of any pre-built libraries like Scikitlearn, the construction of linear regression becomes different as I need to construct it manually so the creation of linear regression focuses on initialization, fitting the model, and making predictions. This implementation provides a straightforward way to perform linear regression by calculating the best-fit line through a set of data points, allowing for predictions based on new values of the independent variable.\n",
        "\n",
        "\n",
        "\n",
        "---\n",
        "\n",
        "\n",
        "\n",
        "**Model Training**\n",
        "\n",
        "This is where splitting the data takes place to prepare it for model evaluation and for it to have a lot of training data. Then the calculation of MSE takes place which have a result of 253576579.81087357 base on the predictions of model.\n",
        "\n",
        "---\n",
        "\n",
        "**Model Evaluation**\n",
        "\n",
        "The testing results of the model shows Testing MSE: 253668187.220402 which can be acceptable base on the target and other factors. The plot also shows how near the actual and predicted prices are, which can be the basis of the model's success or being a model that fits the dataset\n",
        "\n",
        "---\n",
        "\n",
        "**Challenges**\n",
        "\n",
        "In this model creation, the challenge that I face is creating the linear regrssion from scratch which becomes hindrance to me as I am used with libraries help. But I overcome it with the help of AI, I learn how to construct the model for linear regression with proper formulation and AI help me to understand more the model and linear regression."
      ],
      "metadata": {
        "id": "Iifxekp9LvVU"
      }
    }
  ]
}